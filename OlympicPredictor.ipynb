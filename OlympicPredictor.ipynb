{
 "cells": [
  {
   "cell_type": "code",
   "execution_count": 6,
   "metadata": {},
   "outputs": [],
   "source": [
    "import pandas as pd\n",
    "import numpy as np"
   ]
  },
  {
   "cell_type": "code",
   "execution_count": 12,
   "metadata": {},
   "outputs": [],
   "source": [
    "teams = pd.read_csv('/Users/sahirbandali/Desktop/Winter 2024/teams.csv')"
   ]
  },
  {
   "cell_type": "code",
   "execution_count": 13,
   "metadata": {},
   "outputs": [
    {
     "data": {
      "text/html": [
       "<div>\n",
       "<style scoped>\n",
       "    .dataframe tbody tr th:only-of-type {\n",
       "        vertical-align: middle;\n",
       "    }\n",
       "\n",
       "    .dataframe tbody tr th {\n",
       "        vertical-align: top;\n",
       "    }\n",
       "\n",
       "    .dataframe thead th {\n",
       "        text-align: right;\n",
       "    }\n",
       "</style>\n",
       "<table border=\"1\" class=\"dataframe\">\n",
       "  <thead>\n",
       "    <tr style=\"text-align: right;\">\n",
       "      <th></th>\n",
       "      <th>team</th>\n",
       "      <th>country</th>\n",
       "      <th>year</th>\n",
       "      <th>events</th>\n",
       "      <th>athletes</th>\n",
       "      <th>age</th>\n",
       "      <th>height</th>\n",
       "      <th>weight</th>\n",
       "      <th>medals</th>\n",
       "      <th>prev_medals</th>\n",
       "      <th>prev_3_medals</th>\n",
       "    </tr>\n",
       "  </thead>\n",
       "  <tbody>\n",
       "    <tr>\n",
       "      <th>0</th>\n",
       "      <td>AFG</td>\n",
       "      <td>Afghanistan</td>\n",
       "      <td>1964</td>\n",
       "      <td>8</td>\n",
       "      <td>8</td>\n",
       "      <td>22.0</td>\n",
       "      <td>161.0</td>\n",
       "      <td>64.2</td>\n",
       "      <td>0</td>\n",
       "      <td>0.0</td>\n",
       "      <td>0.0</td>\n",
       "    </tr>\n",
       "    <tr>\n",
       "      <th>1</th>\n",
       "      <td>AFG</td>\n",
       "      <td>Afghanistan</td>\n",
       "      <td>1968</td>\n",
       "      <td>5</td>\n",
       "      <td>5</td>\n",
       "      <td>23.2</td>\n",
       "      <td>170.2</td>\n",
       "      <td>70.0</td>\n",
       "      <td>0</td>\n",
       "      <td>0.0</td>\n",
       "      <td>0.0</td>\n",
       "    </tr>\n",
       "    <tr>\n",
       "      <th>2</th>\n",
       "      <td>AFG</td>\n",
       "      <td>Afghanistan</td>\n",
       "      <td>1972</td>\n",
       "      <td>8</td>\n",
       "      <td>8</td>\n",
       "      <td>29.0</td>\n",
       "      <td>168.3</td>\n",
       "      <td>63.8</td>\n",
       "      <td>0</td>\n",
       "      <td>0.0</td>\n",
       "      <td>0.0</td>\n",
       "    </tr>\n",
       "    <tr>\n",
       "      <th>3</th>\n",
       "      <td>AFG</td>\n",
       "      <td>Afghanistan</td>\n",
       "      <td>1980</td>\n",
       "      <td>11</td>\n",
       "      <td>11</td>\n",
       "      <td>23.6</td>\n",
       "      <td>168.4</td>\n",
       "      <td>63.2</td>\n",
       "      <td>0</td>\n",
       "      <td>0.0</td>\n",
       "      <td>0.0</td>\n",
       "    </tr>\n",
       "    <tr>\n",
       "      <th>4</th>\n",
       "      <td>AFG</td>\n",
       "      <td>Afghanistan</td>\n",
       "      <td>2004</td>\n",
       "      <td>5</td>\n",
       "      <td>5</td>\n",
       "      <td>18.6</td>\n",
       "      <td>170.8</td>\n",
       "      <td>64.8</td>\n",
       "      <td>0</td>\n",
       "      <td>0.0</td>\n",
       "      <td>0.0</td>\n",
       "    </tr>\n",
       "    <tr>\n",
       "      <th>...</th>\n",
       "      <td>...</td>\n",
       "      <td>...</td>\n",
       "      <td>...</td>\n",
       "      <td>...</td>\n",
       "      <td>...</td>\n",
       "      <td>...</td>\n",
       "      <td>...</td>\n",
       "      <td>...</td>\n",
       "      <td>...</td>\n",
       "      <td>...</td>\n",
       "      <td>...</td>\n",
       "    </tr>\n",
       "    <tr>\n",
       "      <th>2139</th>\n",
       "      <td>ZIM</td>\n",
       "      <td>Zimbabwe</td>\n",
       "      <td>2000</td>\n",
       "      <td>19</td>\n",
       "      <td>26</td>\n",
       "      <td>25.0</td>\n",
       "      <td>179.0</td>\n",
       "      <td>71.1</td>\n",
       "      <td>0</td>\n",
       "      <td>0.0</td>\n",
       "      <td>0.0</td>\n",
       "    </tr>\n",
       "    <tr>\n",
       "      <th>2140</th>\n",
       "      <td>ZIM</td>\n",
       "      <td>Zimbabwe</td>\n",
       "      <td>2004</td>\n",
       "      <td>11</td>\n",
       "      <td>14</td>\n",
       "      <td>25.1</td>\n",
       "      <td>177.8</td>\n",
       "      <td>70.5</td>\n",
       "      <td>3</td>\n",
       "      <td>0.0</td>\n",
       "      <td>0.0</td>\n",
       "    </tr>\n",
       "    <tr>\n",
       "      <th>2141</th>\n",
       "      <td>ZIM</td>\n",
       "      <td>Zimbabwe</td>\n",
       "      <td>2008</td>\n",
       "      <td>15</td>\n",
       "      <td>16</td>\n",
       "      <td>26.1</td>\n",
       "      <td>171.9</td>\n",
       "      <td>63.7</td>\n",
       "      <td>4</td>\n",
       "      <td>3.0</td>\n",
       "      <td>1.0</td>\n",
       "    </tr>\n",
       "    <tr>\n",
       "      <th>2142</th>\n",
       "      <td>ZIM</td>\n",
       "      <td>Zimbabwe</td>\n",
       "      <td>2012</td>\n",
       "      <td>8</td>\n",
       "      <td>9</td>\n",
       "      <td>27.3</td>\n",
       "      <td>174.4</td>\n",
       "      <td>65.2</td>\n",
       "      <td>0</td>\n",
       "      <td>4.0</td>\n",
       "      <td>2.3</td>\n",
       "    </tr>\n",
       "    <tr>\n",
       "      <th>2143</th>\n",
       "      <td>ZIM</td>\n",
       "      <td>Zimbabwe</td>\n",
       "      <td>2016</td>\n",
       "      <td>13</td>\n",
       "      <td>31</td>\n",
       "      <td>27.5</td>\n",
       "      <td>167.8</td>\n",
       "      <td>62.2</td>\n",
       "      <td>0</td>\n",
       "      <td>0.0</td>\n",
       "      <td>2.3</td>\n",
       "    </tr>\n",
       "  </tbody>\n",
       "</table>\n",
       "<p>2144 rows × 11 columns</p>\n",
       "</div>"
      ],
      "text/plain": [
       "     team      country  year  events  athletes   age  height  weight  medals  \\\n",
       "0     AFG  Afghanistan  1964       8         8  22.0   161.0    64.2       0   \n",
       "1     AFG  Afghanistan  1968       5         5  23.2   170.2    70.0       0   \n",
       "2     AFG  Afghanistan  1972       8         8  29.0   168.3    63.8       0   \n",
       "3     AFG  Afghanistan  1980      11        11  23.6   168.4    63.2       0   \n",
       "4     AFG  Afghanistan  2004       5         5  18.6   170.8    64.8       0   \n",
       "...   ...          ...   ...     ...       ...   ...     ...     ...     ...   \n",
       "2139  ZIM     Zimbabwe  2000      19        26  25.0   179.0    71.1       0   \n",
       "2140  ZIM     Zimbabwe  2004      11        14  25.1   177.8    70.5       3   \n",
       "2141  ZIM     Zimbabwe  2008      15        16  26.1   171.9    63.7       4   \n",
       "2142  ZIM     Zimbabwe  2012       8         9  27.3   174.4    65.2       0   \n",
       "2143  ZIM     Zimbabwe  2016      13        31  27.5   167.8    62.2       0   \n",
       "\n",
       "      prev_medals  prev_3_medals  \n",
       "0             0.0            0.0  \n",
       "1             0.0            0.0  \n",
       "2             0.0            0.0  \n",
       "3             0.0            0.0  \n",
       "4             0.0            0.0  \n",
       "...           ...            ...  \n",
       "2139          0.0            0.0  \n",
       "2140          0.0            0.0  \n",
       "2141          3.0            1.0  \n",
       "2142          4.0            2.3  \n",
       "2143          0.0            2.3  \n",
       "\n",
       "[2144 rows x 11 columns]"
      ]
     },
     "execution_count": 13,
     "metadata": {},
     "output_type": "execute_result"
    }
   ],
   "source": [
    "teams"
   ]
  },
  {
   "cell_type": "code",
   "execution_count": 15,
   "metadata": {},
   "outputs": [],
   "source": [
    "new_teams = teams[[\"team\", \"country\", \"year\", \"athletes\", \"age\", \"prev_medals\", \"medals\"]]"
   ]
  },
  {
   "cell_type": "code",
   "execution_count": 16,
   "metadata": {},
   "outputs": [
    {
     "data": {
      "text/html": [
       "<div>\n",
       "<style scoped>\n",
       "    .dataframe tbody tr th:only-of-type {\n",
       "        vertical-align: middle;\n",
       "    }\n",
       "\n",
       "    .dataframe tbody tr th {\n",
       "        vertical-align: top;\n",
       "    }\n",
       "\n",
       "    .dataframe thead th {\n",
       "        text-align: right;\n",
       "    }\n",
       "</style>\n",
       "<table border=\"1\" class=\"dataframe\">\n",
       "  <thead>\n",
       "    <tr style=\"text-align: right;\">\n",
       "      <th></th>\n",
       "      <th>team</th>\n",
       "      <th>country</th>\n",
       "      <th>year</th>\n",
       "      <th>athletes</th>\n",
       "      <th>age</th>\n",
       "      <th>prev_medals</th>\n",
       "      <th>medals</th>\n",
       "    </tr>\n",
       "  </thead>\n",
       "  <tbody>\n",
       "    <tr>\n",
       "      <th>0</th>\n",
       "      <td>AFG</td>\n",
       "      <td>Afghanistan</td>\n",
       "      <td>1964</td>\n",
       "      <td>8</td>\n",
       "      <td>22.0</td>\n",
       "      <td>0.0</td>\n",
       "      <td>0</td>\n",
       "    </tr>\n",
       "    <tr>\n",
       "      <th>1</th>\n",
       "      <td>AFG</td>\n",
       "      <td>Afghanistan</td>\n",
       "      <td>1968</td>\n",
       "      <td>5</td>\n",
       "      <td>23.2</td>\n",
       "      <td>0.0</td>\n",
       "      <td>0</td>\n",
       "    </tr>\n",
       "    <tr>\n",
       "      <th>2</th>\n",
       "      <td>AFG</td>\n",
       "      <td>Afghanistan</td>\n",
       "      <td>1972</td>\n",
       "      <td>8</td>\n",
       "      <td>29.0</td>\n",
       "      <td>0.0</td>\n",
       "      <td>0</td>\n",
       "    </tr>\n",
       "    <tr>\n",
       "      <th>3</th>\n",
       "      <td>AFG</td>\n",
       "      <td>Afghanistan</td>\n",
       "      <td>1980</td>\n",
       "      <td>11</td>\n",
       "      <td>23.6</td>\n",
       "      <td>0.0</td>\n",
       "      <td>0</td>\n",
       "    </tr>\n",
       "    <tr>\n",
       "      <th>4</th>\n",
       "      <td>AFG</td>\n",
       "      <td>Afghanistan</td>\n",
       "      <td>2004</td>\n",
       "      <td>5</td>\n",
       "      <td>18.6</td>\n",
       "      <td>0.0</td>\n",
       "      <td>0</td>\n",
       "    </tr>\n",
       "    <tr>\n",
       "      <th>...</th>\n",
       "      <td>...</td>\n",
       "      <td>...</td>\n",
       "      <td>...</td>\n",
       "      <td>...</td>\n",
       "      <td>...</td>\n",
       "      <td>...</td>\n",
       "      <td>...</td>\n",
       "    </tr>\n",
       "    <tr>\n",
       "      <th>2139</th>\n",
       "      <td>ZIM</td>\n",
       "      <td>Zimbabwe</td>\n",
       "      <td>2000</td>\n",
       "      <td>26</td>\n",
       "      <td>25.0</td>\n",
       "      <td>0.0</td>\n",
       "      <td>0</td>\n",
       "    </tr>\n",
       "    <tr>\n",
       "      <th>2140</th>\n",
       "      <td>ZIM</td>\n",
       "      <td>Zimbabwe</td>\n",
       "      <td>2004</td>\n",
       "      <td>14</td>\n",
       "      <td>25.1</td>\n",
       "      <td>0.0</td>\n",
       "      <td>3</td>\n",
       "    </tr>\n",
       "    <tr>\n",
       "      <th>2141</th>\n",
       "      <td>ZIM</td>\n",
       "      <td>Zimbabwe</td>\n",
       "      <td>2008</td>\n",
       "      <td>16</td>\n",
       "      <td>26.1</td>\n",
       "      <td>3.0</td>\n",
       "      <td>4</td>\n",
       "    </tr>\n",
       "    <tr>\n",
       "      <th>2142</th>\n",
       "      <td>ZIM</td>\n",
       "      <td>Zimbabwe</td>\n",
       "      <td>2012</td>\n",
       "      <td>9</td>\n",
       "      <td>27.3</td>\n",
       "      <td>4.0</td>\n",
       "      <td>0</td>\n",
       "    </tr>\n",
       "    <tr>\n",
       "      <th>2143</th>\n",
       "      <td>ZIM</td>\n",
       "      <td>Zimbabwe</td>\n",
       "      <td>2016</td>\n",
       "      <td>31</td>\n",
       "      <td>27.5</td>\n",
       "      <td>0.0</td>\n",
       "      <td>0</td>\n",
       "    </tr>\n",
       "  </tbody>\n",
       "</table>\n",
       "<p>2144 rows × 7 columns</p>\n",
       "</div>"
      ],
      "text/plain": [
       "     team      country  year  athletes   age  prev_medals  medals\n",
       "0     AFG  Afghanistan  1964         8  22.0          0.0       0\n",
       "1     AFG  Afghanistan  1968         5  23.2          0.0       0\n",
       "2     AFG  Afghanistan  1972         8  29.0          0.0       0\n",
       "3     AFG  Afghanistan  1980        11  23.6          0.0       0\n",
       "4     AFG  Afghanistan  2004         5  18.6          0.0       0\n",
       "...   ...          ...   ...       ...   ...          ...     ...\n",
       "2139  ZIM     Zimbabwe  2000        26  25.0          0.0       0\n",
       "2140  ZIM     Zimbabwe  2004        14  25.1          0.0       3\n",
       "2141  ZIM     Zimbabwe  2008        16  26.1          3.0       4\n",
       "2142  ZIM     Zimbabwe  2012         9  27.3          4.0       0\n",
       "2143  ZIM     Zimbabwe  2016        31  27.5          0.0       0\n",
       "\n",
       "[2144 rows x 7 columns]"
      ]
     },
     "execution_count": 16,
     "metadata": {},
     "output_type": "execute_result"
    }
   ],
   "source": [
    "new_teams"
   ]
  },
  {
   "cell_type": "code",
   "execution_count": 17,
   "metadata": {},
   "outputs": [
    {
     "data": {
      "text/plain": [
       "year          -0.021603\n",
       "athletes       0.840817\n",
       "age            0.025096\n",
       "prev_medals    0.920048\n",
       "medals         1.000000\n",
       "Name: medals, dtype: float64"
      ]
     },
     "execution_count": 17,
     "metadata": {},
     "output_type": "execute_result"
    }
   ],
   "source": [
    "new_teams.corr()[\"medals\"]"
   ]
  },
  {
   "cell_type": "code",
   "execution_count": 18,
   "metadata": {},
   "outputs": [],
   "source": [
    "import seaborn as sns"
   ]
  },
  {
   "cell_type": "code",
   "execution_count": 21,
   "metadata": {},
   "outputs": [
    {
     "data": {
      "text/plain": [
       "<seaborn.axisgrid.FacetGrid at 0x7f7d722e2b20>"
      ]
     },
     "execution_count": 21,
     "metadata": {},
     "output_type": "execute_result"
    },
    {
     "data": {
      "image/png": "[encoded data removed]",
      "text/plain": [
       "<Figure size 360x360 with 1 Axes>"
      ]
     },
     "metadata": {
      "needs_background": "light"
     },
     "output_type": "display_data"
    }
   ],
   "source": [
    "sns.lmplot(x=\"athletes\", y=\"medals\", data=new_teams, fit_reg=True, ci=None)"
   ]
  },
  {
   "cell_type": "code",
   "execution_count": 32,
   "metadata": {},
   "outputs": [
    {
     "ename": "SyntaxError",
     "evalue": "positional argument follows keyword argument (<ipython-input-32-fb5159385265>, line 1)",
     "output_type": "error",
     "traceback": [
      "\u001b[0;36m  File \u001b[0;32m\"<ipython-input-32-fb5159385265>\"\u001b[0;36m, line \u001b[0;32m1\u001b[0m\n\u001b[0;31m    sns.lmplot(x=\"age\", \"prev_medals\" , y=\"medals\", data=new_teams, fit_reg=True, ci=None)\u001b[0m\n\u001b[0m                        ^\u001b[0m\n\u001b[0;31mSyntaxError\u001b[0m\u001b[0;31m:\u001b[0m positional argument follows keyword argument\n"
     ]
    }
   ],
   "source": [
    "sns.lmplot(x=\"age\", \"prev_medals\" , y=\"medals\", data=new_teams, fit_reg=True, ci=None)"
   ]
  },
  {
   "cell_type": "code",
   "execution_count": 23,
   "metadata": {},
   "outputs": [
    {
     "data": {
      "text/plain": [
       "<AxesSubplot:ylabel='Frequency'>"
      ]
     },
     "execution_count": 23,
     "metadata": {},
     "output_type": "execute_result"
    },
    {
     "data": {
      "image/png": "[encoded data removed]",
      "text/plain": [
       "<Figure size 432x288 with 1 Axes>"
      ]
     },
     "metadata": {
      "needs_background": "light"
     },
     "output_type": "display_data"
    }
   ],
   "source": [
    "new_teams.plot.hist(y=\"medals\")"
   ]
  },
  {
   "cell_type": "code",
   "execution_count": 24,
   "metadata": {
    "scrolled": false
   },
   "outputs": [
    {
     "data": {
      "text/html": [
       "<div>\n",
       "<style scoped>\n",
       "    .dataframe tbody tr th:only-of-type {\n",
       "        vertical-align: middle;\n",
       "    }\n",
       "\n",
       "    .dataframe tbody tr th {\n",
       "        vertical-align: top;\n",
       "    }\n",
       "\n",
       "    .dataframe thead th {\n",
       "        text-align: right;\n",
       "    }\n",
       "</style>\n",
       "<table border=\"1\" class=\"dataframe\">\n",
       "  <thead>\n",
       "    <tr style=\"text-align: right;\">\n",
       "      <th></th>\n",
       "      <th>team</th>\n",
       "      <th>country</th>\n",
       "      <th>year</th>\n",
       "      <th>athletes</th>\n",
       "      <th>age</th>\n",
       "      <th>prev_medals</th>\n",
       "      <th>medals</th>\n",
       "    </tr>\n",
       "  </thead>\n",
       "  <tbody>\n",
       "    <tr>\n",
       "      <th>19</th>\n",
       "      <td>ALB</td>\n",
       "      <td>Albania</td>\n",
       "      <td>1992</td>\n",
       "      <td>9</td>\n",
       "      <td>25.3</td>\n",
       "      <td>NaN</td>\n",
       "      <td>0</td>\n",
       "    </tr>\n",
       "    <tr>\n",
       "      <th>26</th>\n",
       "      <td>ALG</td>\n",
       "      <td>Algeria</td>\n",
       "      <td>1964</td>\n",
       "      <td>7</td>\n",
       "      <td>26.0</td>\n",
       "      <td>NaN</td>\n",
       "      <td>0</td>\n",
       "    </tr>\n",
       "    <tr>\n",
       "      <th>39</th>\n",
       "      <td>AND</td>\n",
       "      <td>Andorra</td>\n",
       "      <td>1976</td>\n",
       "      <td>3</td>\n",
       "      <td>28.3</td>\n",
       "      <td>NaN</td>\n",
       "      <td>0</td>\n",
       "    </tr>\n",
       "    <tr>\n",
       "      <th>50</th>\n",
       "      <td>ANG</td>\n",
       "      <td>Angola</td>\n",
       "      <td>1980</td>\n",
       "      <td>17</td>\n",
       "      <td>17.4</td>\n",
       "      <td>NaN</td>\n",
       "      <td>0</td>\n",
       "    </tr>\n",
       "    <tr>\n",
       "      <th>59</th>\n",
       "      <td>ANT</td>\n",
       "      <td>Antigua and Barbuda</td>\n",
       "      <td>1976</td>\n",
       "      <td>17</td>\n",
       "      <td>23.2</td>\n",
       "      <td>NaN</td>\n",
       "      <td>0</td>\n",
       "    </tr>\n",
       "    <tr>\n",
       "      <th>...</th>\n",
       "      <td>...</td>\n",
       "      <td>...</td>\n",
       "      <td>...</td>\n",
       "      <td>...</td>\n",
       "      <td>...</td>\n",
       "      <td>...</td>\n",
       "      <td>...</td>\n",
       "    </tr>\n",
       "    <tr>\n",
       "      <th>2092</th>\n",
       "      <td>VIN</td>\n",
       "      <td>Saint Vincent and the Grenadines</td>\n",
       "      <td>1988</td>\n",
       "      <td>6</td>\n",
       "      <td>20.5</td>\n",
       "      <td>NaN</td>\n",
       "      <td>0</td>\n",
       "    </tr>\n",
       "    <tr>\n",
       "      <th>2103</th>\n",
       "      <td>YAR</td>\n",
       "      <td>North Yemen</td>\n",
       "      <td>1984</td>\n",
       "      <td>3</td>\n",
       "      <td>27.7</td>\n",
       "      <td>NaN</td>\n",
       "      <td>0</td>\n",
       "    </tr>\n",
       "    <tr>\n",
       "      <th>2105</th>\n",
       "      <td>YEM</td>\n",
       "      <td>Yemen</td>\n",
       "      <td>1992</td>\n",
       "      <td>8</td>\n",
       "      <td>19.6</td>\n",
       "      <td>NaN</td>\n",
       "      <td>0</td>\n",
       "    </tr>\n",
       "    <tr>\n",
       "      <th>2112</th>\n",
       "      <td>YMD</td>\n",
       "      <td>South Yemen</td>\n",
       "      <td>1988</td>\n",
       "      <td>5</td>\n",
       "      <td>23.6</td>\n",
       "      <td>NaN</td>\n",
       "      <td>0</td>\n",
       "    </tr>\n",
       "    <tr>\n",
       "      <th>2120</th>\n",
       "      <td>ZAM</td>\n",
       "      <td>Zambia</td>\n",
       "      <td>1964</td>\n",
       "      <td>15</td>\n",
       "      <td>21.7</td>\n",
       "      <td>NaN</td>\n",
       "      <td>0</td>\n",
       "    </tr>\n",
       "  </tbody>\n",
       "</table>\n",
       "<p>130 rows × 7 columns</p>\n",
       "</div>"
      ],
      "text/plain": [
       "     team                           country  year  athletes   age  \\\n",
       "19    ALB                           Albania  1992         9  25.3   \n",
       "26    ALG                           Algeria  1964         7  26.0   \n",
       "39    AND                           Andorra  1976         3  28.3   \n",
       "50    ANG                            Angola  1980        17  17.4   \n",
       "59    ANT               Antigua and Barbuda  1976        17  23.2   \n",
       "...   ...                               ...   ...       ...   ...   \n",
       "2092  VIN  Saint Vincent and the Grenadines  1988         6  20.5   \n",
       "2103  YAR                       North Yemen  1984         3  27.7   \n",
       "2105  YEM                             Yemen  1992         8  19.6   \n",
       "2112  YMD                       South Yemen  1988         5  23.6   \n",
       "2120  ZAM                            Zambia  1964        15  21.7   \n",
       "\n",
       "      prev_medals  medals  \n",
       "19            NaN       0  \n",
       "26            NaN       0  \n",
       "39            NaN       0  \n",
       "50            NaN       0  \n",
       "59            NaN       0  \n",
       "...           ...     ...  \n",
       "2092          NaN       0  \n",
       "2103          NaN       0  \n",
       "2105          NaN       0  \n",
       "2112          NaN       0  \n",
       "2120          NaN       0  \n",
       "\n",
       "[130 rows x 7 columns]"
      ]
     },
     "execution_count": 24,
     "metadata": {},
     "output_type": "execute_result"
    }
   ],
   "source": [
    "new_teams[new_teams.isnull().any(axis=1)]"
   ]
  },
  {
   "cell_type": "code",
   "execution_count": 25,
   "metadata": {},
   "outputs": [],
   "source": [
    "new_teams=new_teams.dropna()"
   ]
  },
  {
   "cell_type": "code",
   "execution_count": 26,
   "metadata": {},
   "outputs": [
    {
     "data": {
      "text/html": [
       "<div>\n",
       "<style scoped>\n",
       "    .dataframe tbody tr th:only-of-type {\n",
       "        vertical-align: middle;\n",
       "    }\n",
       "\n",
       "    .dataframe tbody tr th {\n",
       "        vertical-align: top;\n",
       "    }\n",
       "\n",
       "    .dataframe thead th {\n",
       "        text-align: right;\n",
       "    }\n",
       "</style>\n",
       "<table border=\"1\" class=\"dataframe\">\n",
       "  <thead>\n",
       "    <tr style=\"text-align: right;\">\n",
       "      <th></th>\n",
       "      <th>team</th>\n",
       "      <th>country</th>\n",
       "      <th>year</th>\n",
       "      <th>athletes</th>\n",
       "      <th>age</th>\n",
       "      <th>prev_medals</th>\n",
       "      <th>medals</th>\n",
       "    </tr>\n",
       "  </thead>\n",
       "  <tbody>\n",
       "    <tr>\n",
       "      <th>0</th>\n",
       "      <td>AFG</td>\n",
       "      <td>Afghanistan</td>\n",
       "      <td>1964</td>\n",
       "      <td>8</td>\n",
       "      <td>22.0</td>\n",
       "      <td>0.0</td>\n",
       "      <td>0</td>\n",
       "    </tr>\n",
       "    <tr>\n",
       "      <th>1</th>\n",
       "      <td>AFG</td>\n",
       "      <td>Afghanistan</td>\n",
       "      <td>1968</td>\n",
       "      <td>5</td>\n",
       "      <td>23.2</td>\n",
       "      <td>0.0</td>\n",
       "      <td>0</td>\n",
       "    </tr>\n",
       "    <tr>\n",
       "      <th>2</th>\n",
       "      <td>AFG</td>\n",
       "      <td>Afghanistan</td>\n",
       "      <td>1972</td>\n",
       "      <td>8</td>\n",
       "      <td>29.0</td>\n",
       "      <td>0.0</td>\n",
       "      <td>0</td>\n",
       "    </tr>\n",
       "    <tr>\n",
       "      <th>3</th>\n",
       "      <td>AFG</td>\n",
       "      <td>Afghanistan</td>\n",
       "      <td>1980</td>\n",
       "      <td>11</td>\n",
       "      <td>23.6</td>\n",
       "      <td>0.0</td>\n",
       "      <td>0</td>\n",
       "    </tr>\n",
       "    <tr>\n",
       "      <th>4</th>\n",
       "      <td>AFG</td>\n",
       "      <td>Afghanistan</td>\n",
       "      <td>2004</td>\n",
       "      <td>5</td>\n",
       "      <td>18.6</td>\n",
       "      <td>0.0</td>\n",
       "      <td>0</td>\n",
       "    </tr>\n",
       "    <tr>\n",
       "      <th>...</th>\n",
       "      <td>...</td>\n",
       "      <td>...</td>\n",
       "      <td>...</td>\n",
       "      <td>...</td>\n",
       "      <td>...</td>\n",
       "      <td>...</td>\n",
       "      <td>...</td>\n",
       "    </tr>\n",
       "    <tr>\n",
       "      <th>2139</th>\n",
       "      <td>ZIM</td>\n",
       "      <td>Zimbabwe</td>\n",
       "      <td>2000</td>\n",
       "      <td>26</td>\n",
       "      <td>25.0</td>\n",
       "      <td>0.0</td>\n",
       "      <td>0</td>\n",
       "    </tr>\n",
       "    <tr>\n",
       "      <th>2140</th>\n",
       "      <td>ZIM</td>\n",
       "      <td>Zimbabwe</td>\n",
       "      <td>2004</td>\n",
       "      <td>14</td>\n",
       "      <td>25.1</td>\n",
       "      <td>0.0</td>\n",
       "      <td>3</td>\n",
       "    </tr>\n",
       "    <tr>\n",
       "      <th>2141</th>\n",
       "      <td>ZIM</td>\n",
       "      <td>Zimbabwe</td>\n",
       "      <td>2008</td>\n",
       "      <td>16</td>\n",
       "      <td>26.1</td>\n",
       "      <td>3.0</td>\n",
       "      <td>4</td>\n",
       "    </tr>\n",
       "    <tr>\n",
       "      <th>2142</th>\n",
       "      <td>ZIM</td>\n",
       "      <td>Zimbabwe</td>\n",
       "      <td>2012</td>\n",
       "      <td>9</td>\n",
       "      <td>27.3</td>\n",
       "      <td>4.0</td>\n",
       "      <td>0</td>\n",
       "    </tr>\n",
       "    <tr>\n",
       "      <th>2143</th>\n",
       "      <td>ZIM</td>\n",
       "      <td>Zimbabwe</td>\n",
       "      <td>2016</td>\n",
       "      <td>31</td>\n",
       "      <td>27.5</td>\n",
       "      <td>0.0</td>\n",
       "      <td>0</td>\n",
       "    </tr>\n",
       "  </tbody>\n",
       "</table>\n",
       "<p>2014 rows × 7 columns</p>\n",
       "</div>"
      ],
      "text/plain": [
       "     team      country  year  athletes   age  prev_medals  medals\n",
       "0     AFG  Afghanistan  1964         8  22.0          0.0       0\n",
       "1     AFG  Afghanistan  1968         5  23.2          0.0       0\n",
       "2     AFG  Afghanistan  1972         8  29.0          0.0       0\n",
       "3     AFG  Afghanistan  1980        11  23.6          0.0       0\n",
       "4     AFG  Afghanistan  2004         5  18.6          0.0       0\n",
       "...   ...          ...   ...       ...   ...          ...     ...\n",
       "2139  ZIM     Zimbabwe  2000        26  25.0          0.0       0\n",
       "2140  ZIM     Zimbabwe  2004        14  25.1          0.0       3\n",
       "2141  ZIM     Zimbabwe  2008        16  26.1          3.0       4\n",
       "2142  ZIM     Zimbabwe  2012         9  27.3          4.0       0\n",
       "2143  ZIM     Zimbabwe  2016        31  27.5          0.0       0\n",
       "\n",
       "[2014 rows x 7 columns]"
      ]
     },
     "execution_count": 26,
     "metadata": {},
     "output_type": "execute_result"
    }
   ],
   "source": [
    "new_teams"
   ]
  },
  {
   "cell_type": "code",
   "execution_count": 28,
   "metadata": {},
   "outputs": [],
   "source": [
    "train = new_teams[new_teams[\"year\"]<2012].copy()\n",
    "test = new_teams[new_teams[\"year\"]>=2012].copy()"
   ]
  },
  {
   "cell_type": "code",
   "execution_count": 29,
   "metadata": {},
   "outputs": [
    {
     "data": {
      "text/plain": [
       "(1609, 7)"
      ]
     },
     "execution_count": 29,
     "metadata": {},
     "output_type": "execute_result"
    }
   ],
   "source": [
    "train.shape"
   ]
  },
  {
   "cell_type": "code",
   "execution_count": 30,
   "metadata": {},
   "outputs": [
    {
     "data": {
      "text/plain": [
       "(405, 7)"
      ]
     },
     "execution_count": 30,
     "metadata": {},
     "output_type": "execute_result"
    }
   ],
   "source": [
    "test.shape"
   ]
  },
  {
   "cell_type": "code",
   "execution_count": 31,
   "metadata": {},
   "outputs": [],
   "source": [
    "from sklearn.linear_model import LinearRegression\n",
    "\n",
    "reg = LinearRegression()\n"
   ]
  },
  {
   "cell_type": "code",
   "execution_count": 37,
   "metadata": {},
   "outputs": [],
   "source": [
    "predictors = [\"athletes\", \"prev_medals\"]\n",
    "target = \"medals\""
   ]
  },
  {
   "cell_type": "code",
   "execution_count": 38,
   "metadata": {},
   "outputs": [
    {
     "data": {
      "text/plain": [
       "LinearRegression()"
      ]
     },
     "execution_count": 38,
     "metadata": {},
     "output_type": "execute_result"
    }
   ],
   "source": [
    "reg.fit(train[predictors], train[\"medals\"])"
   ]
  },
  {
   "cell_type": "code",
   "execution_count": 39,
   "metadata": {},
   "outputs": [],
   "source": [
    "predictions = reg.predict(test[predictors])"
   ]
  },
  {
   "cell_type": "code",
   "execution_count": 42,
   "metadata": {},
   "outputs": [],
   "source": [
    "test[\"predictions\"] = predictions"
   ]
  },
  {
   "cell_type": "code",
   "execution_count": 43,
   "metadata": {},
   "outputs": [
    {
     "data": {
      "text/html": [
       "<div>\n",
       "<style scoped>\n",
       "    .dataframe tbody tr th:only-of-type {\n",
       "        vertical-align: middle;\n",
       "    }\n",
       "\n",
       "    .dataframe tbody tr th {\n",
       "        vertical-align: top;\n",
       "    }\n",
       "\n",
       "    .dataframe thead th {\n",
       "        text-align: right;\n",
       "    }\n",
       "</style>\n",
       "<table border=\"1\" class=\"dataframe\">\n",
       "  <thead>\n",
       "    <tr style=\"text-align: right;\">\n",
       "      <th></th>\n",
       "      <th>team</th>\n",
       "      <th>country</th>\n",
       "      <th>year</th>\n",
       "      <th>athletes</th>\n",
       "      <th>age</th>\n",
       "      <th>prev_medals</th>\n",
       "      <th>medals</th>\n",
       "      <th>predictions</th>\n",
       "    </tr>\n",
       "  </thead>\n",
       "  <tbody>\n",
       "    <tr>\n",
       "      <th>6</th>\n",
       "      <td>AFG</td>\n",
       "      <td>Afghanistan</td>\n",
       "      <td>2012</td>\n",
       "      <td>6</td>\n",
       "      <td>24.8</td>\n",
       "      <td>1.0</td>\n",
       "      <td>1</td>\n",
       "      <td>-0.961221</td>\n",
       "    </tr>\n",
       "    <tr>\n",
       "      <th>7</th>\n",
       "      <td>AFG</td>\n",
       "      <td>Afghanistan</td>\n",
       "      <td>2016</td>\n",
       "      <td>3</td>\n",
       "      <td>24.7</td>\n",
       "      <td>1.0</td>\n",
       "      <td>0</td>\n",
       "      <td>-1.176333</td>\n",
       "    </tr>\n",
       "    <tr>\n",
       "      <th>24</th>\n",
       "      <td>ALB</td>\n",
       "      <td>Albania</td>\n",
       "      <td>2012</td>\n",
       "      <td>10</td>\n",
       "      <td>25.7</td>\n",
       "      <td>0.0</td>\n",
       "      <td>0</td>\n",
       "      <td>-1.425032</td>\n",
       "    </tr>\n",
       "    <tr>\n",
       "      <th>25</th>\n",
       "      <td>ALB</td>\n",
       "      <td>Albania</td>\n",
       "      <td>2016</td>\n",
       "      <td>6</td>\n",
       "      <td>23.7</td>\n",
       "      <td>0.0</td>\n",
       "      <td>0</td>\n",
       "      <td>-1.711847</td>\n",
       "    </tr>\n",
       "    <tr>\n",
       "      <th>37</th>\n",
       "      <td>ALG</td>\n",
       "      <td>Algeria</td>\n",
       "      <td>2012</td>\n",
       "      <td>39</td>\n",
       "      <td>24.8</td>\n",
       "      <td>2.0</td>\n",
       "      <td>1</td>\n",
       "      <td>2.155629</td>\n",
       "    </tr>\n",
       "    <tr>\n",
       "      <th>...</th>\n",
       "      <td>...</td>\n",
       "      <td>...</td>\n",
       "      <td>...</td>\n",
       "      <td>...</td>\n",
       "      <td>...</td>\n",
       "      <td>...</td>\n",
       "      <td>...</td>\n",
       "      <td>...</td>\n",
       "    </tr>\n",
       "    <tr>\n",
       "      <th>2111</th>\n",
       "      <td>YEM</td>\n",
       "      <td>Yemen</td>\n",
       "      <td>2016</td>\n",
       "      <td>3</td>\n",
       "      <td>19.3</td>\n",
       "      <td>0.0</td>\n",
       "      <td>0</td>\n",
       "      <td>-1.926958</td>\n",
       "    </tr>\n",
       "    <tr>\n",
       "      <th>2131</th>\n",
       "      <td>ZAM</td>\n",
       "      <td>Zambia</td>\n",
       "      <td>2012</td>\n",
       "      <td>7</td>\n",
       "      <td>22.6</td>\n",
       "      <td>0.0</td>\n",
       "      <td>0</td>\n",
       "      <td>-1.640143</td>\n",
       "    </tr>\n",
       "    <tr>\n",
       "      <th>2132</th>\n",
       "      <td>ZAM</td>\n",
       "      <td>Zambia</td>\n",
       "      <td>2016</td>\n",
       "      <td>7</td>\n",
       "      <td>24.1</td>\n",
       "      <td>0.0</td>\n",
       "      <td>0</td>\n",
       "      <td>-1.640143</td>\n",
       "    </tr>\n",
       "    <tr>\n",
       "      <th>2142</th>\n",
       "      <td>ZIM</td>\n",
       "      <td>Zimbabwe</td>\n",
       "      <td>2012</td>\n",
       "      <td>9</td>\n",
       "      <td>27.3</td>\n",
       "      <td>4.0</td>\n",
       "      <td>0</td>\n",
       "      <td>1.505767</td>\n",
       "    </tr>\n",
       "    <tr>\n",
       "      <th>2143</th>\n",
       "      <td>ZIM</td>\n",
       "      <td>Zimbabwe</td>\n",
       "      <td>2016</td>\n",
       "      <td>31</td>\n",
       "      <td>27.5</td>\n",
       "      <td>0.0</td>\n",
       "      <td>0</td>\n",
       "      <td>0.080748</td>\n",
       "    </tr>\n",
       "  </tbody>\n",
       "</table>\n",
       "<p>405 rows × 8 columns</p>\n",
       "</div>"
      ],
      "text/plain": [
       "     team      country  year  athletes   age  prev_medals  medals  predictions\n",
       "6     AFG  Afghanistan  2012         6  24.8          1.0       1    -0.961221\n",
       "7     AFG  Afghanistan  2016         3  24.7          1.0       0    -1.176333\n",
       "24    ALB      Albania  2012        10  25.7          0.0       0    -1.425032\n",
       "25    ALB      Albania  2016         6  23.7          0.0       0    -1.711847\n",
       "37    ALG      Algeria  2012        39  24.8          2.0       1     2.155629\n",
       "...   ...          ...   ...       ...   ...          ...     ...          ...\n",
       "2111  YEM        Yemen  2016         3  19.3          0.0       0    -1.926958\n",
       "2131  ZAM       Zambia  2012         7  22.6          0.0       0    -1.640143\n",
       "2132  ZAM       Zambia  2016         7  24.1          0.0       0    -1.640143\n",
       "2142  ZIM     Zimbabwe  2012         9  27.3          4.0       0     1.505767\n",
       "2143  ZIM     Zimbabwe  2016        31  27.5          0.0       0     0.080748\n",
       "\n",
       "[405 rows x 8 columns]"
      ]
     },
     "execution_count": 43,
     "metadata": {},
     "output_type": "execute_result"
    }
   ],
   "source": [
    "test"
   ]
  },
  {
   "cell_type": "code",
   "execution_count": 44,
   "metadata": {},
   "outputs": [],
   "source": [
    "test.loc[test[\"predictions\"]<0, \"predictions\"] = 0"
   ]
  },
  {
   "cell_type": "code",
   "execution_count": 46,
   "metadata": {},
   "outputs": [],
   "source": [
    "test[\"predictions\"] = test[\"predictions\"].round()"
   ]
  },
  {
   "cell_type": "code",
   "execution_count": 47,
   "metadata": {},
   "outputs": [
    {
     "data": {
      "text/html": [
       "<div>\n",
       "<style scoped>\n",
       "    .dataframe tbody tr th:only-of-type {\n",
       "        vertical-align: middle;\n",
       "    }\n",
       "\n",
       "    .dataframe tbody tr th {\n",
       "        vertical-align: top;\n",
       "    }\n",
       "\n",
       "    .dataframe thead th {\n",
       "        text-align: right;\n",
       "    }\n",
       "</style>\n",
       "<table border=\"1\" class=\"dataframe\">\n",
       "  <thead>\n",
       "    <tr style=\"text-align: right;\">\n",
       "      <th></th>\n",
       "      <th>team</th>\n",
       "      <th>country</th>\n",
       "      <th>year</th>\n",
       "      <th>athletes</th>\n",
       "      <th>age</th>\n",
       "      <th>prev_medals</th>\n",
       "      <th>medals</th>\n",
       "      <th>predictions</th>\n",
       "    </tr>\n",
       "  </thead>\n",
       "  <tbody>\n",
       "    <tr>\n",
       "      <th>6</th>\n",
       "      <td>AFG</td>\n",
       "      <td>Afghanistan</td>\n",
       "      <td>2012</td>\n",
       "      <td>6</td>\n",
       "      <td>24.8</td>\n",
       "      <td>1.0</td>\n",
       "      <td>1</td>\n",
       "      <td>0.0</td>\n",
       "    </tr>\n",
       "    <tr>\n",
       "      <th>7</th>\n",
       "      <td>AFG</td>\n",
       "      <td>Afghanistan</td>\n",
       "      <td>2016</td>\n",
       "      <td>3</td>\n",
       "      <td>24.7</td>\n",
       "      <td>1.0</td>\n",
       "      <td>0</td>\n",
       "      <td>0.0</td>\n",
       "    </tr>\n",
       "    <tr>\n",
       "      <th>24</th>\n",
       "      <td>ALB</td>\n",
       "      <td>Albania</td>\n",
       "      <td>2012</td>\n",
       "      <td>10</td>\n",
       "      <td>25.7</td>\n",
       "      <td>0.0</td>\n",
       "      <td>0</td>\n",
       "      <td>0.0</td>\n",
       "    </tr>\n",
       "    <tr>\n",
       "      <th>25</th>\n",
       "      <td>ALB</td>\n",
       "      <td>Albania</td>\n",
       "      <td>2016</td>\n",
       "      <td>6</td>\n",
       "      <td>23.7</td>\n",
       "      <td>0.0</td>\n",
       "      <td>0</td>\n",
       "      <td>0.0</td>\n",
       "    </tr>\n",
       "    <tr>\n",
       "      <th>37</th>\n",
       "      <td>ALG</td>\n",
       "      <td>Algeria</td>\n",
       "      <td>2012</td>\n",
       "      <td>39</td>\n",
       "      <td>24.8</td>\n",
       "      <td>2.0</td>\n",
       "      <td>1</td>\n",
       "      <td>2.0</td>\n",
       "    </tr>\n",
       "    <tr>\n",
       "      <th>...</th>\n",
       "      <td>...</td>\n",
       "      <td>...</td>\n",
       "      <td>...</td>\n",
       "      <td>...</td>\n",
       "      <td>...</td>\n",
       "      <td>...</td>\n",
       "      <td>...</td>\n",
       "      <td>...</td>\n",
       "    </tr>\n",
       "    <tr>\n",
       "      <th>2111</th>\n",
       "      <td>YEM</td>\n",
       "      <td>Yemen</td>\n",
       "      <td>2016</td>\n",
       "      <td>3</td>\n",
       "      <td>19.3</td>\n",
       "      <td>0.0</td>\n",
       "      <td>0</td>\n",
       "      <td>0.0</td>\n",
       "    </tr>\n",
       "    <tr>\n",
       "      <th>2131</th>\n",
       "      <td>ZAM</td>\n",
       "      <td>Zambia</td>\n",
       "      <td>2012</td>\n",
       "      <td>7</td>\n",
       "      <td>22.6</td>\n",
       "      <td>0.0</td>\n",
       "      <td>0</td>\n",
       "      <td>0.0</td>\n",
       "    </tr>\n",
       "    <tr>\n",
       "      <th>2132</th>\n",
       "      <td>ZAM</td>\n",
       "      <td>Zambia</td>\n",
       "      <td>2016</td>\n",
       "      <td>7</td>\n",
       "      <td>24.1</td>\n",
       "      <td>0.0</td>\n",
       "      <td>0</td>\n",
       "      <td>0.0</td>\n",
       "    </tr>\n",
       "    <tr>\n",
       "      <th>2142</th>\n",
       "      <td>ZIM</td>\n",
       "      <td>Zimbabwe</td>\n",
       "      <td>2012</td>\n",
       "      <td>9</td>\n",
       "      <td>27.3</td>\n",
       "      <td>4.0</td>\n",
       "      <td>0</td>\n",
       "      <td>2.0</td>\n",
       "    </tr>\n",
       "    <tr>\n",
       "      <th>2143</th>\n",
       "      <td>ZIM</td>\n",
       "      <td>Zimbabwe</td>\n",
       "      <td>2016</td>\n",
       "      <td>31</td>\n",
       "      <td>27.5</td>\n",
       "      <td>0.0</td>\n",
       "      <td>0</td>\n",
       "      <td>0.0</td>\n",
       "    </tr>\n",
       "  </tbody>\n",
       "</table>\n",
       "<p>405 rows × 8 columns</p>\n",
       "</div>"
      ],
      "text/plain": [
       "     team      country  year  athletes   age  prev_medals  medals  predictions\n",
       "6     AFG  Afghanistan  2012         6  24.8          1.0       1          0.0\n",
       "7     AFG  Afghanistan  2016         3  24.7          1.0       0          0.0\n",
       "24    ALB      Albania  2012        10  25.7          0.0       0          0.0\n",
       "25    ALB      Albania  2016         6  23.7          0.0       0          0.0\n",
       "37    ALG      Algeria  2012        39  24.8          2.0       1          2.0\n",
       "...   ...          ...   ...       ...   ...          ...     ...          ...\n",
       "2111  YEM        Yemen  2016         3  19.3          0.0       0          0.0\n",
       "2131  ZAM       Zambia  2012         7  22.6          0.0       0          0.0\n",
       "2132  ZAM       Zambia  2016         7  24.1          0.0       0          0.0\n",
       "2142  ZIM     Zimbabwe  2012         9  27.3          4.0       0          2.0\n",
       "2143  ZIM     Zimbabwe  2016        31  27.5          0.0       0          0.0\n",
       "\n",
       "[405 rows x 8 columns]"
      ]
     },
     "execution_count": 47,
     "metadata": {},
     "output_type": "execute_result"
    }
   ],
   "source": [
    "test"
   ]
  },
  {
   "cell_type": "code",
   "execution_count": 49,
   "metadata": {},
   "outputs": [],
   "source": [
    "from sklearn.metrics import mean_absolute_error\n",
    "\n",
    "error = mean_absolute_error(test[\"medals\"], test[\"predictions\"])"
   ]
  },
  {
   "cell_type": "code",
   "execution_count": 51,
   "metadata": {},
   "outputs": [
    {
     "data": {
      "text/plain": [
       "3.2987654320987656"
      ]
     },
     "execution_count": 51,
     "metadata": {},
     "output_type": "execute_result"
    }
   ],
   "source": [
    "error "
   ]
  },
  {
   "cell_type": "code",
   "execution_count": 52,
   "metadata": {},
   "outputs": [
    {
     "data": {
      "text/plain": [
       "count    2014.000000\n",
       "mean       10.990070\n",
       "std        33.627528\n",
       "min         0.000000\n",
       "25%         0.000000\n",
       "50%         0.000000\n",
       "75%         5.000000\n",
       "max       442.000000\n",
       "Name: medals, dtype: float64"
      ]
     },
     "execution_count": 52,
     "metadata": {},
     "output_type": "execute_result"
    }
   ],
   "source": [
    "new_teams.describe()[\"medals\"]"
   ]
  },
  {
   "cell_type": "code",
   "execution_count": 53,
   "metadata": {},
   "outputs": [
    {
     "data": {
      "text/html": [
       "<div>\n",
       "<style scoped>\n",
       "    .dataframe tbody tr th:only-of-type {\n",
       "        vertical-align: middle;\n",
       "    }\n",
       "\n",
       "    .dataframe tbody tr th {\n",
       "        vertical-align: top;\n",
       "    }\n",
       "\n",
       "    .dataframe thead th {\n",
       "        text-align: right;\n",
       "    }\n",
       "</style>\n",
       "<table border=\"1\" class=\"dataframe\">\n",
       "  <thead>\n",
       "    <tr style=\"text-align: right;\">\n",
       "      <th></th>\n",
       "      <th>team</th>\n",
       "      <th>country</th>\n",
       "      <th>year</th>\n",
       "      <th>athletes</th>\n",
       "      <th>age</th>\n",
       "      <th>prev_medals</th>\n",
       "      <th>medals</th>\n",
       "      <th>predictions</th>\n",
       "    </tr>\n",
       "  </thead>\n",
       "  <tbody>\n",
       "    <tr>\n",
       "      <th>2053</th>\n",
       "      <td>USA</td>\n",
       "      <td>United States</td>\n",
       "      <td>2012</td>\n",
       "      <td>689</td>\n",
       "      <td>26.7</td>\n",
       "      <td>317.0</td>\n",
       "      <td>248</td>\n",
       "      <td>285.0</td>\n",
       "    </tr>\n",
       "    <tr>\n",
       "      <th>2054</th>\n",
       "      <td>USA</td>\n",
       "      <td>United States</td>\n",
       "      <td>2016</td>\n",
       "      <td>719</td>\n",
       "      <td>26.4</td>\n",
       "      <td>248.0</td>\n",
       "      <td>264</td>\n",
       "      <td>236.0</td>\n",
       "    </tr>\n",
       "  </tbody>\n",
       "</table>\n",
       "</div>"
      ],
      "text/plain": [
       "     team        country  year  athletes   age  prev_medals  medals  \\\n",
       "2053  USA  United States  2012       689  26.7        317.0     248   \n",
       "2054  USA  United States  2016       719  26.4        248.0     264   \n",
       "\n",
       "      predictions  \n",
       "2053        285.0  \n",
       "2054        236.0  "
      ]
     },
     "execution_count": 53,
     "metadata": {},
     "output_type": "execute_result"
    }
   ],
   "source": [
    "test[test[\"team\"] == \"USA\"]"
   ]
  },
  {
   "cell_type": "code",
   "execution_count": 56,
   "metadata": {},
   "outputs": [
    {
     "data": {
      "text/html": [
       "<div>\n",
       "<style scoped>\n",
       "    .dataframe tbody tr th:only-of-type {\n",
       "        vertical-align: middle;\n",
       "    }\n",
       "\n",
       "    .dataframe tbody tr th {\n",
       "        vertical-align: top;\n",
       "    }\n",
       "\n",
       "    .dataframe thead th {\n",
       "        text-align: right;\n",
       "    }\n",
       "</style>\n",
       "<table border=\"1\" class=\"dataframe\">\n",
       "  <thead>\n",
       "    <tr style=\"text-align: right;\">\n",
       "      <th></th>\n",
       "      <th>team</th>\n",
       "      <th>country</th>\n",
       "      <th>year</th>\n",
       "      <th>athletes</th>\n",
       "      <th>age</th>\n",
       "      <th>prev_medals</th>\n",
       "      <th>medals</th>\n",
       "      <th>predictions</th>\n",
       "    </tr>\n",
       "  </thead>\n",
       "  <tbody>\n",
       "    <tr>\n",
       "      <th>907</th>\n",
       "      <td>IND</td>\n",
       "      <td>India</td>\n",
       "      <td>2012</td>\n",
       "      <td>95</td>\n",
       "      <td>26.0</td>\n",
       "      <td>3.0</td>\n",
       "      <td>6</td>\n",
       "      <td>7.0</td>\n",
       "    </tr>\n",
       "    <tr>\n",
       "      <th>908</th>\n",
       "      <td>IND</td>\n",
       "      <td>India</td>\n",
       "      <td>2016</td>\n",
       "      <td>130</td>\n",
       "      <td>26.1</td>\n",
       "      <td>6.0</td>\n",
       "      <td>2</td>\n",
       "      <td>12.0</td>\n",
       "    </tr>\n",
       "  </tbody>\n",
       "</table>\n",
       "</div>"
      ],
      "text/plain": [
       "    team country  year  athletes   age  prev_medals  medals  predictions\n",
       "907  IND   India  2012        95  26.0          3.0       6          7.0\n",
       "908  IND   India  2016       130  26.1          6.0       2         12.0"
      ]
     },
     "execution_count": 56,
     "metadata": {},
     "output_type": "execute_result"
    }
   ],
   "source": [
    "test[test[\"team\"]==\"IND\"]"
   ]
  },
  {
   "cell_type": "code",
   "execution_count": 60,
   "metadata": {},
   "outputs": [],
   "source": [
    "errors = (test[\"medals\"] - test[\"predictions\"]).abs()"
   ]
  },
  {
   "cell_type": "code",
   "execution_count": 61,
   "metadata": {},
   "outputs": [
    {
     "data": {
      "text/plain": [
       "6       1.0\n",
       "7       0.0\n",
       "24      0.0\n",
       "25      0.0\n",
       "37      1.0\n",
       "       ... \n",
       "2111    0.0\n",
       "2131    0.0\n",
       "2132    0.0\n",
       "2142    2.0\n",
       "2143    0.0\n",
       "Length: 405, dtype: float64"
      ]
     },
     "execution_count": 61,
     "metadata": {},
     "output_type": "execute_result"
    }
   ],
   "source": [
    "errors"
   ]
  },
  {
   "cell_type": "code",
   "execution_count": 63,
   "metadata": {},
   "outputs": [],
   "source": [
    "error_by_team = errors.groupby(test[\"team\"]).mean()"
   ]
  },
  {
   "cell_type": "code",
   "execution_count": 64,
   "metadata": {},
   "outputs": [
    {
     "data": {
      "text/plain": [
       "team\n",
       "AFG    0.5\n",
       "ALB    0.0\n",
       "ALG    1.5\n",
       "AND    0.0\n",
       "ANG    0.0\n",
       "      ... \n",
       "VIE    1.0\n",
       "VIN    0.0\n",
       "YEM    0.0\n",
       "ZAM    0.0\n",
       "ZIM    1.0\n",
       "Length: 204, dtype: float64"
      ]
     },
     "execution_count": 64,
     "metadata": {},
     "output_type": "execute_result"
    }
   ],
   "source": [
    "error_by_team"
   ]
  },
  {
   "cell_type": "code",
   "execution_count": 70,
   "metadata": {},
   "outputs": [],
   "source": [
    "medals_by_team = test[\"medals\"].groupby(test[\"team\"]).mean()"
   ]
  },
  {
   "cell_type": "code",
   "execution_count": 72,
   "metadata": {},
   "outputs": [],
   "source": [
    "error_ratio = error_by_team / medals_by_team"
   ]
  },
  {
   "cell_type": "code",
   "execution_count": 73,
   "metadata": {},
   "outputs": [
    {
     "data": {
      "text/plain": [
       "team\n",
       "AFG    1.0\n",
       "ALB    NaN\n",
       "ALG    1.0\n",
       "AND    NaN\n",
       "ANG    NaN\n",
       "      ... \n",
       "VIE    1.0\n",
       "VIN    NaN\n",
       "YEM    NaN\n",
       "ZAM    NaN\n",
       "ZIM    inf\n",
       "Length: 204, dtype: float64"
      ]
     },
     "execution_count": 73,
     "metadata": {},
     "output_type": "execute_result"
    }
   ],
   "source": [
    "error_ratio"
   ]
  },
  {
   "cell_type": "code",
   "execution_count": 74,
   "metadata": {},
   "outputs": [
    {
     "data": {
      "text/plain": [
       "team\n",
       "AFG    1.000000\n",
       "ALG    1.000000\n",
       "ARG    0.853659\n",
       "ARM    0.428571\n",
       "AUS    0.367347\n",
       "         ...   \n",
       "USA    0.126953\n",
       "UZB    0.625000\n",
       "VEN    1.750000\n",
       "VIE    1.000000\n",
       "ZIM         inf\n",
       "Length: 102, dtype: float64"
      ]
     },
     "execution_count": 74,
     "metadata": {},
     "output_type": "execute_result"
    }
   ],
   "source": [
    "error_ratio[~pd.isnull(error_ratio)]"
   ]
  },
  {
   "cell_type": "code",
   "execution_count": 75,
   "metadata": {},
   "outputs": [],
   "source": [
    "import numpy as np\n",
    "error_ratio = error_ratio[np.isfinite(error_ratio)]"
   ]
  },
  {
   "cell_type": "code",
   "execution_count": 76,
   "metadata": {},
   "outputs": [
    {
     "data": {
      "text/plain": [
       "team\n",
       "AFG    1.000000\n",
       "ALG    1.000000\n",
       "ARG    0.853659\n",
       "ARM    0.428571\n",
       "AUS    0.367347\n",
       "         ...   \n",
       "UKR    0.951220\n",
       "USA    0.126953\n",
       "UZB    0.625000\n",
       "VEN    1.750000\n",
       "VIE    1.000000\n",
       "Length: 97, dtype: float64"
      ]
     },
     "execution_count": 76,
     "metadata": {},
     "output_type": "execute_result"
    }
   ],
   "source": [
    "error_ratio"
   ]
  },
  {
   "cell_type": "code",
   "execution_count": 77,
   "metadata": {},
   "outputs": [
    {
     "data": {
      "text/plain": [
       "<AxesSubplot:ylabel='Frequency'>"
      ]
     },
     "execution_count": 77,
     "metadata": {},
     "output_type": "execute_result"
    },
    {
     "data": {
      "image/png": "[encoded data removed]",
      "text/plain": [
       "<Figure size 432x288 with 1 Axes>"
      ]
     },
     "metadata": {
      "needs_background": "light"
     },
     "output_type": "display_data"
    }
   ],
   "source": [
    "error_ratio.plot.hist()"
   ]
  },
  {
   "cell_type": "code",
   "execution_count": 79,
   "metadata": {},
   "outputs": [
    {
     "data": {
      "text/plain": [
       "team\n",
       "FRA    0.022472\n",
       "CAN    0.048387\n",
       "NZL    0.063492\n",
       "RUS    0.082353\n",
       "ITA    0.121429\n",
       "         ...   \n",
       "MAR    2.000000\n",
       "EGY    2.400000\n",
       "HKG    3.000000\n",
       "POR    3.333333\n",
       "AUT    4.500000\n",
       "Length: 97, dtype: float64"
      ]
     },
     "execution_count": 79,
     "metadata": {},
     "output_type": "execute_result"
    }
   ],
   "source": [
    "error_ratio.sort_values()"
   ]
  },
  {
   "cell_type": "code",
   "execution_count": null,
   "metadata": {},
   "outputs": [],
   "source": [
   ]
  },
  {
   "cell_type": "code",
   "execution_count": null,
   "metadata": {},
   "outputs": [],
   "source": []
  }
 ],
 "metadata": {
  "kernelspec": {
   "display_name": "Python 3",
   "language": "python",
   "name": "python3"
  },
  "language_info": {
   "codemirror_mode": {
    "name": "ipython",
    "version": 3
   },
   "file_extension": ".py",
   "mimetype": "text/x-python",
   "name": "python",
   "nbconvert_exporter": "python",
   "pygments_lexer": "ipython3",
   "version": "3.8.5"
  }
 },
 "nbformat": 4,
 "nbformat_minor": 4
}
